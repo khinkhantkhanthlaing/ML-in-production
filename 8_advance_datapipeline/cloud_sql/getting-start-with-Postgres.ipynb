{
 "cells": [
  {
   "cell_type": "markdown",
   "id": "cb7074da",
   "metadata": {},
   "source": [
    "#### Install code dependencies"
   ]
  },
  {
   "cell_type": "code",
   "execution_count": 1,
   "id": "a681f1ef",
   "metadata": {},
   "outputs": [
    {
     "name": "stdout",
     "output_type": "stream",
     "text": [
      "Collecting cloud-sql-python-connector[pg8000]\n",
      "  Downloading cloud_sql_python_connector-1.2.0-py2.py3-none-any.whl (35 kB)\n",
      "Requirement already satisfied: google-auth in c:\\users\\tharh\\.conda\\envs\\tharhtet\\lib\\site-packages (from cloud-sql-python-connector[pg8000]) (2.16.2)\n",
      "Requirement already satisfied: Requests in c:\\users\\tharh\\.conda\\envs\\tharhtet\\lib\\site-packages (from cloud-sql-python-connector[pg8000]) (2.28.2)\n",
      "Collecting cryptography>=38.0.3\n",
      "  Downloading cryptography-39.0.2-cp36-abi3-win_amd64.whl (2.5 MB)\n",
      "     ---------------------------------------- 2.5/2.5 MB 1.5 MB/s eta 0:00:00\n",
      "Requirement already satisfied: aiohttp in c:\\users\\tharh\\.conda\\envs\\tharhtet\\lib\\site-packages (from cloud-sql-python-connector[pg8000]) (3.8.4)\n",
      "Collecting pg8000==1.29.4\n",
      "  Downloading pg8000-1.29.4-py3-none-any.whl (51 kB)\n",
      "     ---------------------------------------- 51.4/51.4 kB 2.6 MB/s eta 0:00:00\n",
      "Collecting scramp>=1.4.3\n",
      "  Downloading scramp-1.4.4-py3-none-any.whl (13 kB)\n",
      "Requirement already satisfied: python-dateutil>=2.8.2 in c:\\users\\tharh\\.conda\\envs\\tharhtet\\lib\\site-packages (from pg8000==1.29.4->cloud-sql-python-connector[pg8000]) (2.8.2)\n",
      "Requirement already satisfied: cffi>=1.12 in c:\\users\\tharh\\.conda\\envs\\tharhtet\\lib\\site-packages (from cryptography>=38.0.3->cloud-sql-python-connector[pg8000]) (1.15.1)\n",
      "Requirement already satisfied: attrs>=17.3.0 in c:\\users\\tharh\\.conda\\envs\\tharhtet\\lib\\site-packages (from aiohttp->cloud-sql-python-connector[pg8000]) (22.2.0)\n",
      "Requirement already satisfied: yarl<2.0,>=1.0 in c:\\users\\tharh\\.conda\\envs\\tharhtet\\lib\\site-packages (from aiohttp->cloud-sql-python-connector[pg8000]) (1.8.2)\n",
      "Requirement already satisfied: charset-normalizer<4.0,>=2.0 in c:\\users\\tharh\\.conda\\envs\\tharhtet\\lib\\site-packages (from aiohttp->cloud-sql-python-connector[pg8000]) (3.0.1)\n",
      "Requirement already satisfied: async-timeout<5.0,>=4.0.0a3 in c:\\users\\tharh\\.conda\\envs\\tharhtet\\lib\\site-packages (from aiohttp->cloud-sql-python-connector[pg8000]) (4.0.2)\n",
      "Requirement already satisfied: aiosignal>=1.1.2 in c:\\users\\tharh\\.conda\\envs\\tharhtet\\lib\\site-packages (from aiohttp->cloud-sql-python-connector[pg8000]) (1.3.1)\n",
      "Requirement already satisfied: multidict<7.0,>=4.5 in c:\\users\\tharh\\.conda\\envs\\tharhtet\\lib\\site-packages (from aiohttp->cloud-sql-python-connector[pg8000]) (6.0.4)\n",
      "Requirement already satisfied: frozenlist>=1.1.1 in c:\\users\\tharh\\.conda\\envs\\tharhtet\\lib\\site-packages (from aiohttp->cloud-sql-python-connector[pg8000]) (1.3.3)\n",
      "Requirement already satisfied: rsa<5,>=3.1.4 in c:\\users\\tharh\\.conda\\envs\\tharhtet\\lib\\site-packages (from google-auth->cloud-sql-python-connector[pg8000]) (4.9)\n",
      "Requirement already satisfied: pyasn1-modules>=0.2.1 in c:\\users\\tharh\\.conda\\envs\\tharhtet\\lib\\site-packages (from google-auth->cloud-sql-python-connector[pg8000]) (0.2.8)\n",
      "Requirement already satisfied: cachetools<6.0,>=2.0.0 in c:\\users\\tharh\\.conda\\envs\\tharhtet\\lib\\site-packages (from google-auth->cloud-sql-python-connector[pg8000]) (5.3.0)\n",
      "Requirement already satisfied: six>=1.9.0 in c:\\users\\tharh\\.conda\\envs\\tharhtet\\lib\\site-packages (from google-auth->cloud-sql-python-connector[pg8000]) (1.16.0)\n",
      "Requirement already satisfied: idna<4,>=2.5 in c:\\users\\tharh\\.conda\\envs\\tharhtet\\lib\\site-packages (from Requests->cloud-sql-python-connector[pg8000]) (3.4)\n",
      "Requirement already satisfied: urllib3<1.27,>=1.21.1 in c:\\users\\tharh\\.conda\\envs\\tharhtet\\lib\\site-packages (from Requests->cloud-sql-python-connector[pg8000]) (1.26.14)\n",
      "Requirement already satisfied: certifi>=2017.4.17 in c:\\users\\tharh\\.conda\\envs\\tharhtet\\lib\\site-packages (from Requests->cloud-sql-python-connector[pg8000]) (2022.12.7)\n",
      "Requirement already satisfied: pycparser in c:\\users\\tharh\\.conda\\envs\\tharhtet\\lib\\site-packages (from cffi>=1.12->cryptography>=38.0.3->cloud-sql-python-connector[pg8000]) (2.21)\n",
      "Requirement already satisfied: pyasn1<0.5.0,>=0.4.6 in c:\\users\\tharh\\.conda\\envs\\tharhtet\\lib\\site-packages (from pyasn1-modules>=0.2.1->google-auth->cloud-sql-python-connector[pg8000]) (0.4.8)\n",
      "Collecting asn1crypto>=1.5.1\n",
      "  Downloading asn1crypto-1.5.1-py2.py3-none-any.whl (105 kB)\n",
      "     -------------------------------------- 105.0/105.0 kB 1.5 MB/s eta 0:00:00\n",
      "Installing collected packages: asn1crypto, scramp, pg8000, cryptography, cloud-sql-python-connector\n",
      "Successfully installed asn1crypto-1.5.1 cloud-sql-python-connector-1.2.0 cryptography-39.0.2 pg8000-1.29.4 scramp-1.4.4\n"
     ]
    }
   ],
   "source": [
    "!pip install cloud-sql-python-connector[\"pg8000\"]"
   ]
  },
  {
   "cell_type": "code",
   "execution_count": 2,
   "id": "5b5bb891",
   "metadata": {},
   "outputs": [
    {
     "name": "stdout",
     "output_type": "stream",
     "text": [
      "Collecting SQLAlchemy\n",
      "  Downloading SQLAlchemy-2.0.5.post1-cp39-cp39-win_amd64.whl (2.0 MB)\n",
      "     ---------------------------------------- 2.0/2.0 MB 1.0 MB/s eta 0:00:00\n",
      "Requirement already satisfied: typing-extensions>=4.2.0 in c:\\users\\tharh\\.conda\\envs\\tharhtet\\lib\\site-packages (from SQLAlchemy) (4.5.0)\n",
      "Collecting greenlet!=0.4.17\n",
      "  Downloading greenlet-2.0.2-cp39-cp39-win_amd64.whl (192 kB)\n",
      "     -------------------------------------- 192.1/192.1 kB 2.9 MB/s eta 0:00:00\n",
      "Installing collected packages: greenlet, SQLAlchemy\n",
      "Successfully installed SQLAlchemy-2.0.5.post1 greenlet-2.0.2\n"
     ]
    }
   ],
   "source": [
    "!pip install SQLAlchemy"
   ]
  },
  {
   "cell_type": "code",
   "execution_count": 45,
   "id": "e6d99063",
   "metadata": {},
   "outputs": [
    {
     "data": {
      "text/plain": [
       "'D:\\\\gans\\\\git_upload\\\\ML-in-production\\\\8_advance_datapipeline\\\\cloud_sql'"
      ]
     },
     "execution_count": 45,
     "metadata": {},
     "output_type": "execute_result"
    }
   ],
   "source": [
    "import os\n",
    "import pg8000\n",
    "\n",
    "import sqlalchemy\n",
    "os.getcwd()"
   ]
  },
  {
   "cell_type": "code",
   "execution_count": 46,
   "id": "d10d4582",
   "metadata": {},
   "outputs": [],
   "source": [
    "os.environ[\"GOOGLE_APPLICATION_CREDENTIALS\"] = r\"service-acc/service_acc.json\""
   ]
  },
  {
   "cell_type": "code",
   "execution_count": 47,
   "id": "f46e0eb6",
   "metadata": {},
   "outputs": [],
   "source": [
    "custom_creds =  r\"service-acc/service_acc.json\""
   ]
  },
  {
   "cell_type": "code",
   "execution_count": 48,
   "id": "7ecf4d2c",
   "metadata": {},
   "outputs": [],
   "source": [
    "project_id = \"\"\n",
    "region = \"\"\n",
    "instance_name = \"\""
   ]
  },
  {
   "cell_type": "code",
   "execution_count": 56,
   "id": "f69481ac",
   "metadata": {},
   "outputs": [
    {
     "name": "stdout",
     "output_type": "stream",
     "text": [
      "Your instance connection name is: sktblog:us-central1:sk-t-db-stg\n"
     ]
    }
   ],
   "source": [
    "# initialize parameters\n",
    "INSTANCE_CONNECTION_NAME = f\"{project_id}:{region}:{instance_name}\" # i.e demo-project:us-central1:demo-instance\n",
    "print(f\"Your instance connection name is: {INSTANCE_CONNECTION_NAME}\")\n",
    "DB_USER = \"\"\n",
    "DB_PASS = \"\"\n",
    "DB_NAME = \"\"\n",
    "ip_type = \"\""
   ]
  },
  {
   "cell_type": "code",
   "execution_count": 68,
   "id": "805d4399",
   "metadata": {},
   "outputs": [],
   "source": [
    "from google.cloud.sql.connector import Connector,IPTypes\n",
    "import sqlalchemy\n",
    "\n",
    "# initialize Connector object\n",
    "connector = Connector()\n",
    "\n",
    "# function to return the database connection object\n",
    "def getconn():\n",
    "    conn = connector.connect(\n",
    "        INSTANCE_CONNECTION_NAME,\n",
    "        \"pg8000\",\n",
    "        user=DB_USER,\n",
    "        password=DB_PASS,\n",
    "        db=DB_NAME,\n",
    "        ip_type=IPTypes.PUBLIC,\n",
    "    )\n",
    "    return conn\n",
    "\n",
    "# create connection pool with 'creator' argument to our connection object function\n",
    "pool = sqlalchemy.create_engine(\n",
    "    \"postgresql+pg8000://\",\n",
    "    creator=getconn,\n",
    ")"
   ]
  },
  {
   "cell_type": "code",
   "execution_count": 69,
   "id": "f23cfcd1",
   "metadata": {},
   "outputs": [
    {
     "data": {
      "text/plain": [
       "<sqlalchemy.engine.base.Connection at 0x2004ca62be0>"
      ]
     },
     "execution_count": 69,
     "metadata": {},
     "output_type": "execute_result"
    }
   ],
   "source": [
    "pool.connect()"
   ]
  },
  {
   "cell_type": "code",
   "execution_count": 70,
   "id": "92e904c3",
   "metadata": {},
   "outputs": [
    {
     "name": "stdout",
     "output_type": "stream",
     "text": [
      "<sqlalchemy.engine.cursor.CursorResult object at 0x000002004B8BBAC0>\n"
     ]
    }
   ],
   "source": [
    "# connect to connection pool\n",
    "with pool.connect() as db_conn:\n",
    "  # create ratings table in our sandwiches database\n",
    "  result = db_conn.execute(\n",
    "    sqlalchemy.text(\n",
    "      \"CREATE TABLE IF NOT EXISTS ratings \"\n",
    "      \"( id SERIAL NOT NULL, name VARCHAR(255) NOT NULL, \"\n",
    "      \"origin VARCHAR(255) NOT NULL, rating FLOAT NOT NULL, \"\n",
    "      \"PRIMARY KEY (id));\"\n",
    "    )\n",
    "  )\n",
    "print(result)\n"
   ]
  },
  {
   "cell_type": "code",
   "execution_count": 85,
   "id": "fb47cc83",
   "metadata": {},
   "outputs": [
    {
     "name": "stdout",
     "output_type": "stream",
     "text": [
      "Duration :  0.5209307670593262\n",
      "('test_id', datetime.date(2023, 3, 13), 'plan_B', 10)\n"
     ]
    }
   ],
   "source": [
    "with pool.connect() as db_conn:\n",
    "# insert data into our ratings table\n",
    "    \"\"\"  \n",
    "insert_stmt = sqlalchemy.text(\n",
    "      \"INSERT INTO ratings (name, origin, rating) VALUES (:name, :origin, :rating)\",\n",
    "  )\n",
    "\n",
    "  # insert entries into table\n",
    "  db_conn.execute(insert_stmt, parameters={\"name\": \"HOTDOG\", \"origin\": \"Germany\", \"rating\": 7.5})\n",
    "  db_conn.execute(insert_stmt, parameters={\"name\": \"BÀNH MÌ\", \"origin\": \"Vietnam\", \"rating\": 9.1})\n",
    "  db_conn.execute(insert_stmt, parameters={\"name\": \"CROQUE MADAME\", \"origin\": \"France\", \"rating\": 8.3})\n",
    "    \"\"\"\n",
    "  # query and fetch ratings table\n",
    "    import time\n",
    "    start_time = time.time()\n",
    "    results = db_conn.execute(sqlalchemy.text(\"SELECT * FROM stg.plan\")).fetchall()\n",
    "    print(\"Duration : \",time.time()-start_time)\n",
    "    # show results\n",
    "    for row in results:\n",
    "        print(row)"
   ]
  },
  {
   "cell_type": "code",
   "execution_count": null,
   "id": "b2c1bb87",
   "metadata": {},
   "outputs": [],
   "source": []
  }
 ],
 "metadata": {
  "kernelspec": {
   "display_name": "Python 3 (ipykernel)",
   "language": "python",
   "name": "python3"
  },
  "language_info": {
   "codemirror_mode": {
    "name": "ipython",
    "version": 3
   },
   "file_extension": ".py",
   "mimetype": "text/x-python",
   "name": "python",
   "nbconvert_exporter": "python",
   "pygments_lexer": "ipython3",
   "version": "3.9.16"
  }
 },
 "nbformat": 4,
 "nbformat_minor": 5
}
